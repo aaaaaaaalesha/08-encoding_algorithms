{
 "cells": [
  {
   "cell_type": "markdown",
   "source": [
    "# Код Хаффмана"
   ],
   "metadata": {
    "collapsed": false
   }
  },
  {
   "cell_type": "code",
   "execution_count": null,
   "outputs": [],
   "source": [
    "BIG_FILE = 'file.txt'\n",
    "MIDDLE_FILE = 'middle.txt'\n",
    "SMALL_FILE = 'small.txt'\n",
    "\n",
    "curr_file = MIDDLE_FILE\n",
    "\n",
    "with open(curr_file, encoding='utf-8', mode='r') as file:\n",
    "    text = file.read()\n",
    "\n",
    "text"
   ],
   "metadata": {
    "collapsed": false,
    "ExecuteTime": {
     "end_time": "2023-05-02T14:58:20.989861800Z",
     "start_time": "2023-05-02T14:58:20.857867300Z"
    },
    "pycharm": {
     "is_executing": true
    }
   }
  },
  {
   "cell_type": "code",
   "execution_count": 18,
   "outputs": [],
   "source": [
    "from collections import Counter\n",
    "\n",
    "\n",
    "class NodeTree(object):\n",
    "    def __init__(self, left=None, right=None):\n",
    "        self.left = left\n",
    "        self.right = right\n",
    "\n",
    "    def __str__(self):\n",
    "        return self.left, self.right\n",
    "\n",
    "    def children(self):\n",
    "        return self.left, self.right\n",
    "\n",
    "\n",
    "def huffman_code_tree(node_, bin_string=''):\n",
    "    if type(node_) is str:\n",
    "        return {node_: bin_string}\n",
    "\n",
    "    l, r = node_.children()\n",
    "    d = dict()\n",
    "    d.update(huffman_code_tree(l, bin_string + '0'))\n",
    "    d.update(huffman_code_tree(r, bin_string + '1'))\n",
    "    return d\n",
    "\n",
    "\n",
    "def make_tree(nodes):\n",
    "    while len(nodes) > 1:\n",
    "        key1, c1 = nodes[-1]\n",
    "        key2, c2 = nodes[-2]\n",
    "        nodes = nodes[:-2]\n",
    "        node_ = NodeTree(key1, key2)\n",
    "        nodes.append((node_, c1 + c2))\n",
    "        nodes = sorted(nodes, key=lambda x: x[1], reverse=True)\n",
    "\n",
    "    return nodes[0][0]"
   ],
   "metadata": {
    "collapsed": false,
    "ExecuteTime": {
     "end_time": "2023-05-02T14:58:21.010861800Z",
     "start_time": "2023-05-02T14:58:20.901865300Z"
    }
   }
  },
  {
   "cell_type": "code",
   "execution_count": 19,
   "outputs": [
    {
     "data": {
      "text/plain": "    Символ  Кодовое слово\n0        с           0000\n1        ,         000100\n2        ь         000101\n3        м          00011\n4        т           0010\n..     ...            ...\n109      a  1111111110101\n110      N  1111111110110\n111      D  1111111110111\n112      «    11111111110\n113      :    11111111111\n\n[114 rows x 2 columns]",
      "text/html": "<div>\n<style scoped>\n    .dataframe tbody tr th:only-of-type {\n        vertical-align: middle;\n    }\n\n    .dataframe tbody tr th {\n        vertical-align: top;\n    }\n\n    .dataframe thead th {\n        text-align: right;\n    }\n</style>\n<table border=\"1\" class=\"dataframe\">\n  <thead>\n    <tr style=\"text-align: right;\">\n      <th></th>\n      <th>Символ</th>\n      <th>Кодовое слово</th>\n    </tr>\n  </thead>\n  <tbody>\n    <tr>\n      <th>0</th>\n      <td>с</td>\n      <td>0000</td>\n    </tr>\n    <tr>\n      <th>1</th>\n      <td>,</td>\n      <td>000100</td>\n    </tr>\n    <tr>\n      <th>2</th>\n      <td>ь</td>\n      <td>000101</td>\n    </tr>\n    <tr>\n      <th>3</th>\n      <td>м</td>\n      <td>00011</td>\n    </tr>\n    <tr>\n      <th>4</th>\n      <td>т</td>\n      <td>0010</td>\n    </tr>\n    <tr>\n      <th>...</th>\n      <td>...</td>\n      <td>...</td>\n    </tr>\n    <tr>\n      <th>109</th>\n      <td>a</td>\n      <td>1111111110101</td>\n    </tr>\n    <tr>\n      <th>110</th>\n      <td>N</td>\n      <td>1111111110110</td>\n    </tr>\n    <tr>\n      <th>111</th>\n      <td>D</td>\n      <td>1111111110111</td>\n    </tr>\n    <tr>\n      <th>112</th>\n      <td>«</td>\n      <td>11111111110</td>\n    </tr>\n    <tr>\n      <th>113</th>\n      <td>:</td>\n      <td>11111111111</td>\n    </tr>\n  </tbody>\n</table>\n<p>114 rows × 2 columns</p>\n</div>"
     },
     "execution_count": 19,
     "metadata": {},
     "output_type": "execute_result"
    }
   ],
   "source": [
    "import pandas as pd\n",
    "\n",
    "freq = sorted(\n",
    "    dict(Counter(text)).items(),\n",
    "    key=lambda kv: kv[1],\n",
    "    reverse=True,\n",
    ")\n",
    "\n",
    "node = make_tree(freq)\n",
    "encoding = huffman_code_tree(\n",
    "    make_tree(freq)\n",
    ")\n",
    "\n",
    "letter_list = list(encoding.keys())\n",
    "code_words = list(encoding.values())\n",
    "\n",
    "pd.DataFrame({\n",
    "    'Символ': letter_list,\n",
    "    'Кодовое слово': code_words,\n",
    "})"
   ],
   "metadata": {
    "collapsed": false,
    "ExecuteTime": {
     "end_time": "2023-05-02T14:58:21.011862300Z",
     "start_time": "2023-05-02T14:58:20.910867100Z"
    }
   }
  },
  {
   "cell_type": "markdown",
   "source": [
    "## Кодирование текста"
   ],
   "metadata": {
    "collapsed": false
   }
  },
  {
   "cell_type": "code",
   "execution_count": 20,
   "outputs": [],
   "source": [
    "coder = {\n",
    "    c: code_words[i]\n",
    "    for i, c in enumerate(letter_list)\n",
    "}\n",
    "\n",
    "encoded_message = ''.join(\n",
    "    coder[c]\n",
    "    for c in text\n",
    ")"
   ],
   "metadata": {
    "collapsed": false,
    "ExecuteTime": {
     "end_time": "2023-05-02T14:58:21.012363100Z",
     "start_time": "2023-05-02T14:58:20.969866100Z"
    }
   }
  },
  {
   "cell_type": "code",
   "execution_count": 21,
   "outputs": [
    {
     "name": "stdout",
     "output_type": "stream",
     "text": [
      "Эффективность сжатия: 0.5192387291\n"
     ]
    }
   ],
   "source": [
    "plain_len = len(''.join(format(ord(x), 'b') for x in text))\n",
    "encoded_len = len(encoded_message)\n",
    "\n",
    "print(f'Эффективность сжатия: {1 - (encoded_len / plain_len):.10f}')"
   ],
   "metadata": {
    "collapsed": false,
    "ExecuteTime": {
     "end_time": "2023-05-02T14:58:21.112864300Z",
     "start_time": "2023-05-02T14:58:20.977865900Z"
    }
   }
  }
 ],
 "metadata": {
  "kernelspec": {
   "display_name": "Python 3",
   "language": "python",
   "name": "python3"
  },
  "language_info": {
   "codemirror_mode": {
    "name": "ipython",
    "version": 2
   },
   "file_extension": ".py",
   "mimetype": "text/x-python",
   "name": "python",
   "nbconvert_exporter": "python",
   "pygments_lexer": "ipython2",
   "version": "2.7.6"
  }
 },
 "nbformat": 4,
 "nbformat_minor": 0
}
